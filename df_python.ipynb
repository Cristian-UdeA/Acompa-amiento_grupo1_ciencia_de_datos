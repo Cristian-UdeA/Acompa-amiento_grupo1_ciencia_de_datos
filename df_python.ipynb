{
 "cells": [
  {
   "cell_type": "code",
   "execution_count": 1,
   "id": "31bbbe94-09ac-4c32-b69e-adfe8efccfb3",
   "metadata": {},
   "outputs": [],
   "source": [
    "# The libraries to use are imported.\n",
    "import pandas as pd\n",
    "import matplotlib.pyplot as plt\n",
    "import seaborn as sns\n",
    "import numpy as np"
   ]
  },
  {
   "cell_type": "code",
   "execution_count": 2,
   "id": "c7ddc9f8-a490-4aed-93a6-fb00479d8b6d",
   "metadata": {
    "tags": []
   },
   "outputs": [],
   "source": [
    "# Load the database \n",
    "df = pd.read_csv(\"Trabajo_de_acompañamiento_grupo1_df.csv\")"
   ]
  },
  {
   "cell_type": "code",
   "execution_count": 3,
   "id": "5d6052cb-fbf1-4d62-a9c2-eea6eb35f3d6",
   "metadata": {
    "tags": []
   },
   "outputs": [
    {
     "data": {
      "text/html": [
       "<div>\n",
       "<style scoped>\n",
       "    .dataframe tbody tr th:only-of-type {\n",
       "        vertical-align: middle;\n",
       "    }\n",
       "\n",
       "    .dataframe tbody tr th {\n",
       "        vertical-align: top;\n",
       "    }\n",
       "\n",
       "    .dataframe thead th {\n",
       "        text-align: right;\n",
       "    }\n",
       "</style>\n",
       "<table border=\"1\" class=\"dataframe\">\n",
       "  <thead>\n",
       "    <tr style=\"text-align: right;\">\n",
       "      <th></th>\n",
       "      <th>Expediente_INVIMA</th>\n",
       "      <th>principio_activo</th>\n",
       "      <th>concentracion</th>\n",
       "      <th>unidad_base</th>\n",
       "      <th>unidad_de_dispensacion</th>\n",
       "      <th>nombre_comercial</th>\n",
       "      <th>fabricante</th>\n",
       "      <th>medicamento</th>\n",
       "      <th>canal</th>\n",
       "      <th>precio_por_tableta</th>\n",
       "      <th>factoresprecio</th>\n",
       "      <th>numerofactor</th>\n",
       "    </tr>\n",
       "  </thead>\n",
       "  <tbody>\n",
       "    <tr>\n",
       "      <th>0</th>\n",
       "      <td>104739</td>\n",
       "      <td>acido valproico</td>\n",
       "      <td>acido valproico 500 mg</td>\n",
       "      <td>mg</td>\n",
       "      <td>Tableta o cápsula</td>\n",
       "      <td>Valcote</td>\n",
       "      <td>Lafrancol</td>\n",
       "      <td>Valcote (Lafrancol) - Cada tableta contiene: a...</td>\n",
       "      <td>Comercial</td>\n",
       "      <td>3,490.33</td>\n",
       "      <td>Medio</td>\n",
       "      <td>2</td>\n",
       "    </tr>\n",
       "    <tr>\n",
       "      <th>1</th>\n",
       "      <td>10815</td>\n",
       "      <td>fluoxetina</td>\n",
       "      <td>fluoxetina 20 mg</td>\n",
       "      <td>mg</td>\n",
       "      <td>Tableta o cápsula</td>\n",
       "      <td>Fluoxetina</td>\n",
       "      <td>Genfar</td>\n",
       "      <td>Fluoxetina (Genfar) - Cada capsula contiene: f...</td>\n",
       "      <td>Comercial</td>\n",
       "      <td>363.13</td>\n",
       "      <td>Medio</td>\n",
       "      <td>2</td>\n",
       "    </tr>\n",
       "    <tr>\n",
       "      <th>2</th>\n",
       "      <td>111057</td>\n",
       "      <td>proximetacaina</td>\n",
       "      <td>proximetacaina 5 mg</td>\n",
       "      <td>ml</td>\n",
       "      <td>Solución o suspensión oftálmica</td>\n",
       "      <td>Alcaine</td>\n",
       "      <td>Alcon</td>\n",
       "      <td>Alcaine (Alcon) - frasco 15 ml - Cada 1 ml con...</td>\n",
       "      <td>Comercial</td>\n",
       "      <td>57,433.33</td>\n",
       "      <td>Medio</td>\n",
       "      <td>2</td>\n",
       "    </tr>\n",
       "    <tr>\n",
       "      <th>3</th>\n",
       "      <td>11415</td>\n",
       "      <td>alopurinol</td>\n",
       "      <td>alopurinol 300 mg</td>\n",
       "      <td>mg</td>\n",
       "      <td>Tableta o cápsula</td>\n",
       "      <td>Alopurinol</td>\n",
       "      <td>Memphis</td>\n",
       "      <td>Alopurinol (Memphis) - Cada tableta contiene: ...</td>\n",
       "      <td>Comercial</td>\n",
       "      <td>365.08</td>\n",
       "      <td>Medio</td>\n",
       "      <td>2</td>\n",
       "    </tr>\n",
       "    <tr>\n",
       "      <th>4</th>\n",
       "      <td>11416</td>\n",
       "      <td>haloperidol</td>\n",
       "      <td>haloperidol 10 mg</td>\n",
       "      <td>mg</td>\n",
       "      <td>Tableta o cápsula</td>\n",
       "      <td>Haloperidol</td>\n",
       "      <td>Memphis</td>\n",
       "      <td>Haloperidol (Memphis) - Cada tableta contiene:...</td>\n",
       "      <td>Comercial</td>\n",
       "      <td>533.81</td>\n",
       "      <td>Alto</td>\n",
       "      <td>3</td>\n",
       "    </tr>\n",
       "    <tr>\n",
       "      <th>...</th>\n",
       "      <td>...</td>\n",
       "      <td>...</td>\n",
       "      <td>...</td>\n",
       "      <td>...</td>\n",
       "      <td>...</td>\n",
       "      <td>...</td>\n",
       "      <td>...</td>\n",
       "      <td>...</td>\n",
       "      <td>...</td>\n",
       "      <td>...</td>\n",
       "      <td>...</td>\n",
       "      <td>...</td>\n",
       "    </tr>\n",
       "    <tr>\n",
       "      <th>11869</th>\n",
       "      <td>93689</td>\n",
       "      <td>acido valproico</td>\n",
       "      <td>acido valproico 250 mg</td>\n",
       "      <td>mg</td>\n",
       "      <td>Tableta o cápsula de liberación modificada</td>\n",
       "      <td>Valcote</td>\n",
       "      <td>Lafrancol</td>\n",
       "      <td>Valcote (Lafrancol) - Cada tableta contiene: a...</td>\n",
       "      <td>Institucional</td>\n",
       "      <td>879.92</td>\n",
       "      <td>Medio</td>\n",
       "      <td>2</td>\n",
       "    </tr>\n",
       "    <tr>\n",
       "      <th>11870</th>\n",
       "      <td>94321</td>\n",
       "      <td>atropina</td>\n",
       "      <td>atropina 10 mg</td>\n",
       "      <td>ml</td>\n",
       "      <td>Solución o suspensión oftálmica</td>\n",
       "      <td>Atropina</td>\n",
       "      <td>Alcon</td>\n",
       "      <td>Atropina (Alcon) - frasco 5 ml - Cada 1 ml con...</td>\n",
       "      <td>Institucional</td>\n",
       "      <td>18,240.50</td>\n",
       "      <td>Medio</td>\n",
       "      <td>2</td>\n",
       "    </tr>\n",
       "    <tr>\n",
       "      <th>11871</th>\n",
       "      <td>9444</td>\n",
       "      <td>valaciclovir</td>\n",
       "      <td>valaciclovir 500 mg</td>\n",
       "      <td>mg</td>\n",
       "      <td>Tableta o cápsula</td>\n",
       "      <td>Valtrex</td>\n",
       "      <td>Glaxosmithkline</td>\n",
       "      <td>Valtrex (Glaxosmithkline) - Cada tableta conti...</td>\n",
       "      <td>Institucional</td>\n",
       "      <td>11,705.00</td>\n",
       "      <td>Alto</td>\n",
       "      <td>3</td>\n",
       "    </tr>\n",
       "    <tr>\n",
       "      <th>11872</th>\n",
       "      <td>9716</td>\n",
       "      <td>budesonida</td>\n",
       "      <td>budesonida 50 mcg</td>\n",
       "      <td>dosis</td>\n",
       "      <td>Aerosoles</td>\n",
       "      <td>B-Cort</td>\n",
       "      <td>Grunenthal</td>\n",
       "      <td>B-Cort (Grunenthal) - aerosol 200 dosis - Cada...</td>\n",
       "      <td>Institucional</td>\n",
       "      <td>29,246.00</td>\n",
       "      <td>Medio</td>\n",
       "      <td>2</td>\n",
       "    </tr>\n",
       "    <tr>\n",
       "      <th>11873</th>\n",
       "      <td>9812</td>\n",
       "      <td>metocarbamol</td>\n",
       "      <td>metocarbamol 750 mg</td>\n",
       "      <td>mg</td>\n",
       "      <td>Tableta o cápsula</td>\n",
       "      <td>Metocarbamol</td>\n",
       "      <td>Memphis</td>\n",
       "      <td>Metocarbamol (Memphis) - Cada tableta contiene...</td>\n",
       "      <td>Institucional</td>\n",
       "      <td>563.50</td>\n",
       "      <td>Alto</td>\n",
       "      <td>3</td>\n",
       "    </tr>\n",
       "  </tbody>\n",
       "</table>\n",
       "<p>11874 rows × 12 columns</p>\n",
       "</div>"
      ],
      "text/plain": [
       "       Expediente_INVIMA principio_activo           concentracion unidad_base  \\\n",
       "0                 104739  acido valproico  acido valproico 500 mg          mg   \n",
       "1                  10815       fluoxetina        fluoxetina 20 mg          mg   \n",
       "2                 111057   proximetacaina     proximetacaina 5 mg          ml   \n",
       "3                  11415       alopurinol       alopurinol 300 mg          mg   \n",
       "4                  11416      haloperidol       haloperidol 10 mg          mg   \n",
       "...                  ...              ...                     ...         ...   \n",
       "11869              93689  acido valproico  acido valproico 250 mg          mg   \n",
       "11870              94321         atropina          atropina 10 mg          ml   \n",
       "11871               9444     valaciclovir     valaciclovir 500 mg          mg   \n",
       "11872               9716       budesonida       budesonida 50 mcg       dosis   \n",
       "11873               9812     metocarbamol     metocarbamol 750 mg          mg   \n",
       "\n",
       "                           unidad_de_dispensacion nombre_comercial  \\\n",
       "0                               Tableta o cápsula          Valcote   \n",
       "1                               Tableta o cápsula       Fluoxetina   \n",
       "2                 Solución o suspensión oftálmica          Alcaine   \n",
       "3                               Tableta o cápsula       Alopurinol   \n",
       "4                               Tableta o cápsula      Haloperidol   \n",
       "...                                           ...              ...   \n",
       "11869  Tableta o cápsula de liberación modificada          Valcote   \n",
       "11870             Solución o suspensión oftálmica         Atropina   \n",
       "11871                           Tableta o cápsula          Valtrex   \n",
       "11872                                   Aerosoles           B-Cort   \n",
       "11873                           Tableta o cápsula     Metocarbamol   \n",
       "\n",
       "            fabricante                                        medicamento  \\\n",
       "0            Lafrancol  Valcote (Lafrancol) - Cada tableta contiene: a...   \n",
       "1               Genfar  Fluoxetina (Genfar) - Cada capsula contiene: f...   \n",
       "2                Alcon  Alcaine (Alcon) - frasco 15 ml - Cada 1 ml con...   \n",
       "3              Memphis  Alopurinol (Memphis) - Cada tableta contiene: ...   \n",
       "4              Memphis  Haloperidol (Memphis) - Cada tableta contiene:...   \n",
       "...                ...                                                ...   \n",
       "11869        Lafrancol  Valcote (Lafrancol) - Cada tableta contiene: a...   \n",
       "11870            Alcon  Atropina (Alcon) - frasco 5 ml - Cada 1 ml con...   \n",
       "11871  Glaxosmithkline  Valtrex (Glaxosmithkline) - Cada tableta conti...   \n",
       "11872       Grunenthal  B-Cort (Grunenthal) - aerosol 200 dosis - Cada...   \n",
       "11873          Memphis  Metocarbamol (Memphis) - Cada tableta contiene...   \n",
       "\n",
       "               canal precio_por_tableta factoresprecio  numerofactor  \n",
       "0          Comercial           3,490.33          Medio             2  \n",
       "1          Comercial             363.13          Medio             2  \n",
       "2          Comercial          57,433.33          Medio             2  \n",
       "3          Comercial             365.08          Medio             2  \n",
       "4          Comercial             533.81           Alto             3  \n",
       "...              ...                ...            ...           ...  \n",
       "11869  Institucional             879.92          Medio             2  \n",
       "11870  Institucional          18,240.50          Medio             2  \n",
       "11871  Institucional          11,705.00           Alto             3  \n",
       "11872  Institucional          29,246.00          Medio             2  \n",
       "11873  Institucional             563.50           Alto             3  \n",
       "\n",
       "[11874 rows x 12 columns]"
      ]
     },
     "execution_count": 3,
     "metadata": {},
     "output_type": "execute_result"
    }
   ],
   "source": [
    "# Visualization of the database\n",
    "df"
   ]
  },
  {
   "cell_type": "code",
   "execution_count": 4,
   "id": "243516b8-d5e8-42e2-b0e8-c16d506b4abf",
   "metadata": {
    "tags": []
   },
   "outputs": [
    {
     "name": "stdout",
     "output_type": "stream",
     "text": [
      "<class 'pandas.core.frame.DataFrame'>\n",
      "RangeIndex: 11874 entries, 0 to 11873\n",
      "Data columns (total 12 columns):\n",
      " #   Column                  Non-Null Count  Dtype \n",
      "---  ------                  --------------  ----- \n",
      " 0   Expediente_INVIMA       11874 non-null  int64 \n",
      " 1   principio_activo        11874 non-null  object\n",
      " 2   concentracion           11874 non-null  object\n",
      " 3   unidad_base             11874 non-null  object\n",
      " 4   unidad_de_dispensacion  11874 non-null  object\n",
      " 5   nombre_comercial        11874 non-null  object\n",
      " 6   fabricante              11874 non-null  object\n",
      " 7   medicamento             11874 non-null  object\n",
      " 8   canal                   11874 non-null  object\n",
      " 9   precio_por_tableta      11874 non-null  object\n",
      " 10  factoresprecio          11874 non-null  object\n",
      " 11  numerofactor            11874 non-null  int64 \n",
      "dtypes: int64(2), object(10)\n",
      "memory usage: 1.1+ MB\n"
     ]
    }
   ],
   "source": [
    "# Get an overview of the data.\n",
    "df.info()"
   ]
  },
  {
   "cell_type": "code",
   "execution_count": 5,
   "id": "6f39f420-c782-43d4-a8f6-4b1876ff5901",
   "metadata": {
    "tags": []
   },
   "outputs": [
    {
     "data": {
      "text/plain": [
       "Expediente_INVIMA          int64\n",
       "principio_activo          object\n",
       "concentracion             object\n",
       "unidad_base               object\n",
       "unidad_de_dispensacion    object\n",
       "nombre_comercial          object\n",
       "fabricante                object\n",
       "medicamento               object\n",
       "canal                     object\n",
       "precio_por_tableta        object\n",
       "factoresprecio            object\n",
       "numerofactor               int64\n",
       "dtype: object"
      ]
     },
     "execution_count": 5,
     "metadata": {},
     "output_type": "execute_result"
    }
   ],
   "source": [
    "# Check the data types\n",
    "dftypes = df.dtypes\n",
    "dftypes"
   ]
  },
  {
   "cell_type": "code",
   "execution_count": 6,
   "id": "ec599c45-cf48-44ee-bbb3-52d4e6937675",
   "metadata": {
    "tags": []
   },
   "outputs": [
    {
     "data": {
      "text/plain": [
       "(11874, 12)"
      ]
     },
     "execution_count": 6,
     "metadata": {},
     "output_type": "execute_result"
    }
   ],
   "source": [
    "# Get the dimension of the data.\n",
    "df.shape"
   ]
  },
  {
   "cell_type": "code",
   "execution_count": 7,
   "id": "f6088468-1376-47e0-9e41-5d57f6477691",
   "metadata": {
    "tags": []
   },
   "outputs": [
    {
     "data": {
      "text/plain": [
       "Expediente_INVIMA         11874\n",
       "principio_activo          11874\n",
       "concentracion             11874\n",
       "unidad_base               11874\n",
       "unidad_de_dispensacion    11874\n",
       "nombre_comercial          11874\n",
       "fabricante                11874\n",
       "medicamento               11874\n",
       "canal                     11874\n",
       "precio_por_tableta        11874\n",
       "factoresprecio            11874\n",
       "numerofactor              11874\n",
       "dtype: int64"
      ]
     },
     "execution_count": 7,
     "metadata": {},
     "output_type": "execute_result"
    }
   ],
   "source": [
    "# Count the number of data\n",
    "count_df = df.count()\n",
    "count_df"
   ]
  },
  {
   "cell_type": "code",
   "execution_count": 8,
   "id": "7d66ab25-9dab-44f2-85e7-f789441d07a1",
   "metadata": {
    "tags": []
   },
   "outputs": [],
   "source": [
    "# DATA CLEANING"
   ]
  },
  {
   "cell_type": "code",
   "execution_count": 9,
   "id": "81da3f6b-34d6-48f2-bb55-5ff8396b33c1",
   "metadata": {
    "tags": []
   },
   "outputs": [
    {
     "data": {
      "text/html": [
       "<div>\n",
       "<style scoped>\n",
       "    .dataframe tbody tr th:only-of-type {\n",
       "        vertical-align: middle;\n",
       "    }\n",
       "\n",
       "    .dataframe tbody tr th {\n",
       "        vertical-align: top;\n",
       "    }\n",
       "\n",
       "    .dataframe thead th {\n",
       "        text-align: right;\n",
       "    }\n",
       "</style>\n",
       "<table border=\"1\" class=\"dataframe\">\n",
       "  <thead>\n",
       "    <tr style=\"text-align: right;\">\n",
       "      <th></th>\n",
       "      <th>Expediente_INVIMA</th>\n",
       "      <th>principio_activo</th>\n",
       "      <th>concentracion</th>\n",
       "      <th>unidad_base</th>\n",
       "      <th>unidad_de_dispensacion</th>\n",
       "      <th>nombre_comercial</th>\n",
       "      <th>fabricante</th>\n",
       "      <th>medicamento</th>\n",
       "      <th>canal</th>\n",
       "      <th>precio_por_tableta</th>\n",
       "      <th>factoresprecio</th>\n",
       "      <th>numerofactor</th>\n",
       "    </tr>\n",
       "  </thead>\n",
       "  <tbody>\n",
       "    <tr>\n",
       "      <th>0</th>\n",
       "      <td>False</td>\n",
       "      <td>False</td>\n",
       "      <td>False</td>\n",
       "      <td>False</td>\n",
       "      <td>False</td>\n",
       "      <td>False</td>\n",
       "      <td>False</td>\n",
       "      <td>False</td>\n",
       "      <td>False</td>\n",
       "      <td>False</td>\n",
       "      <td>False</td>\n",
       "      <td>False</td>\n",
       "    </tr>\n",
       "    <tr>\n",
       "      <th>1</th>\n",
       "      <td>False</td>\n",
       "      <td>False</td>\n",
       "      <td>False</td>\n",
       "      <td>False</td>\n",
       "      <td>False</td>\n",
       "      <td>False</td>\n",
       "      <td>False</td>\n",
       "      <td>False</td>\n",
       "      <td>False</td>\n",
       "      <td>False</td>\n",
       "      <td>False</td>\n",
       "      <td>False</td>\n",
       "    </tr>\n",
       "    <tr>\n",
       "      <th>2</th>\n",
       "      <td>False</td>\n",
       "      <td>False</td>\n",
       "      <td>False</td>\n",
       "      <td>False</td>\n",
       "      <td>False</td>\n",
       "      <td>False</td>\n",
       "      <td>False</td>\n",
       "      <td>False</td>\n",
       "      <td>False</td>\n",
       "      <td>False</td>\n",
       "      <td>False</td>\n",
       "      <td>False</td>\n",
       "    </tr>\n",
       "    <tr>\n",
       "      <th>3</th>\n",
       "      <td>False</td>\n",
       "      <td>False</td>\n",
       "      <td>False</td>\n",
       "      <td>False</td>\n",
       "      <td>False</td>\n",
       "      <td>False</td>\n",
       "      <td>False</td>\n",
       "      <td>False</td>\n",
       "      <td>False</td>\n",
       "      <td>False</td>\n",
       "      <td>False</td>\n",
       "      <td>False</td>\n",
       "    </tr>\n",
       "    <tr>\n",
       "      <th>4</th>\n",
       "      <td>False</td>\n",
       "      <td>False</td>\n",
       "      <td>False</td>\n",
       "      <td>False</td>\n",
       "      <td>False</td>\n",
       "      <td>False</td>\n",
       "      <td>False</td>\n",
       "      <td>False</td>\n",
       "      <td>False</td>\n",
       "      <td>False</td>\n",
       "      <td>False</td>\n",
       "      <td>False</td>\n",
       "    </tr>\n",
       "    <tr>\n",
       "      <th>...</th>\n",
       "      <td>...</td>\n",
       "      <td>...</td>\n",
       "      <td>...</td>\n",
       "      <td>...</td>\n",
       "      <td>...</td>\n",
       "      <td>...</td>\n",
       "      <td>...</td>\n",
       "      <td>...</td>\n",
       "      <td>...</td>\n",
       "      <td>...</td>\n",
       "      <td>...</td>\n",
       "      <td>...</td>\n",
       "    </tr>\n",
       "    <tr>\n",
       "      <th>11869</th>\n",
       "      <td>False</td>\n",
       "      <td>False</td>\n",
       "      <td>False</td>\n",
       "      <td>False</td>\n",
       "      <td>False</td>\n",
       "      <td>False</td>\n",
       "      <td>False</td>\n",
       "      <td>False</td>\n",
       "      <td>False</td>\n",
       "      <td>False</td>\n",
       "      <td>False</td>\n",
       "      <td>False</td>\n",
       "    </tr>\n",
       "    <tr>\n",
       "      <th>11870</th>\n",
       "      <td>False</td>\n",
       "      <td>False</td>\n",
       "      <td>False</td>\n",
       "      <td>False</td>\n",
       "      <td>False</td>\n",
       "      <td>False</td>\n",
       "      <td>False</td>\n",
       "      <td>False</td>\n",
       "      <td>False</td>\n",
       "      <td>False</td>\n",
       "      <td>False</td>\n",
       "      <td>False</td>\n",
       "    </tr>\n",
       "    <tr>\n",
       "      <th>11871</th>\n",
       "      <td>False</td>\n",
       "      <td>False</td>\n",
       "      <td>False</td>\n",
       "      <td>False</td>\n",
       "      <td>False</td>\n",
       "      <td>False</td>\n",
       "      <td>False</td>\n",
       "      <td>False</td>\n",
       "      <td>False</td>\n",
       "      <td>False</td>\n",
       "      <td>False</td>\n",
       "      <td>False</td>\n",
       "    </tr>\n",
       "    <tr>\n",
       "      <th>11872</th>\n",
       "      <td>False</td>\n",
       "      <td>False</td>\n",
       "      <td>False</td>\n",
       "      <td>False</td>\n",
       "      <td>False</td>\n",
       "      <td>False</td>\n",
       "      <td>False</td>\n",
       "      <td>False</td>\n",
       "      <td>False</td>\n",
       "      <td>False</td>\n",
       "      <td>False</td>\n",
       "      <td>False</td>\n",
       "    </tr>\n",
       "    <tr>\n",
       "      <th>11873</th>\n",
       "      <td>False</td>\n",
       "      <td>False</td>\n",
       "      <td>False</td>\n",
       "      <td>False</td>\n",
       "      <td>False</td>\n",
       "      <td>False</td>\n",
       "      <td>False</td>\n",
       "      <td>False</td>\n",
       "      <td>False</td>\n",
       "      <td>False</td>\n",
       "      <td>False</td>\n",
       "      <td>False</td>\n",
       "    </tr>\n",
       "  </tbody>\n",
       "</table>\n",
       "<p>11874 rows × 12 columns</p>\n",
       "</div>"
      ],
      "text/plain": [
       "       Expediente_INVIMA  principio_activo  concentracion  unidad_base  \\\n",
       "0                  False             False          False        False   \n",
       "1                  False             False          False        False   \n",
       "2                  False             False          False        False   \n",
       "3                  False             False          False        False   \n",
       "4                  False             False          False        False   \n",
       "...                  ...               ...            ...          ...   \n",
       "11869              False             False          False        False   \n",
       "11870              False             False          False        False   \n",
       "11871              False             False          False        False   \n",
       "11872              False             False          False        False   \n",
       "11873              False             False          False        False   \n",
       "\n",
       "       unidad_de_dispensacion  nombre_comercial  fabricante  medicamento  \\\n",
       "0                       False             False       False        False   \n",
       "1                       False             False       False        False   \n",
       "2                       False             False       False        False   \n",
       "3                       False             False       False        False   \n",
       "4                       False             False       False        False   \n",
       "...                       ...               ...         ...          ...   \n",
       "11869                   False             False       False        False   \n",
       "11870                   False             False       False        False   \n",
       "11871                   False             False       False        False   \n",
       "11872                   False             False       False        False   \n",
       "11873                   False             False       False        False   \n",
       "\n",
       "       canal  precio_por_tableta  factoresprecio  numerofactor  \n",
       "0      False               False           False         False  \n",
       "1      False               False           False         False  \n",
       "2      False               False           False         False  \n",
       "3      False               False           False         False  \n",
       "4      False               False           False         False  \n",
       "...      ...                 ...             ...           ...  \n",
       "11869  False               False           False         False  \n",
       "11870  False               False           False         False  \n",
       "11871  False               False           False         False  \n",
       "11872  False               False           False         False  \n",
       "11873  False               False           False         False  \n",
       "\n",
       "[11874 rows x 12 columns]"
      ]
     },
     "execution_count": 9,
     "metadata": {},
     "output_type": "execute_result"
    }
   ],
   "source": [
    "# check for null values \n",
    "df.isnull()"
   ]
  },
  {
   "cell_type": "code",
   "execution_count": 10,
   "id": "cb65c0a6-50e1-4f7a-af43-8cf753bba2b5",
   "metadata": {
    "tags": []
   },
   "outputs": [
    {
     "data": {
      "text/html": [
       "<div>\n",
       "<style scoped>\n",
       "    .dataframe tbody tr th:only-of-type {\n",
       "        vertical-align: middle;\n",
       "    }\n",
       "\n",
       "    .dataframe tbody tr th {\n",
       "        vertical-align: top;\n",
       "    }\n",
       "\n",
       "    .dataframe thead th {\n",
       "        text-align: right;\n",
       "    }\n",
       "</style>\n",
       "<table border=\"1\" class=\"dataframe\">\n",
       "  <thead>\n",
       "    <tr style=\"text-align: right;\">\n",
       "      <th></th>\n",
       "      <th>Expediente_INVIMA</th>\n",
       "      <th>principio_activo</th>\n",
       "      <th>concentracion</th>\n",
       "      <th>unidad_base</th>\n",
       "      <th>unidad_de_dispensacion</th>\n",
       "      <th>nombre_comercial</th>\n",
       "      <th>fabricante</th>\n",
       "      <th>medicamento</th>\n",
       "      <th>canal</th>\n",
       "      <th>precio_por_tableta</th>\n",
       "      <th>factoresprecio</th>\n",
       "      <th>numerofactor</th>\n",
       "    </tr>\n",
       "  </thead>\n",
       "  <tbody>\n",
       "    <tr>\n",
       "      <th>0</th>\n",
       "      <td>104739</td>\n",
       "      <td>acido valproico</td>\n",
       "      <td>acido valproico 500 mg</td>\n",
       "      <td>mg</td>\n",
       "      <td>Tableta o cápsula</td>\n",
       "      <td>Valcote</td>\n",
       "      <td>Lafrancol</td>\n",
       "      <td>Valcote (Lafrancol) - Cada tableta contiene: a...</td>\n",
       "      <td>Comercial</td>\n",
       "      <td>3,490.33</td>\n",
       "      <td>Medio</td>\n",
       "      <td>2</td>\n",
       "    </tr>\n",
       "    <tr>\n",
       "      <th>1</th>\n",
       "      <td>10815</td>\n",
       "      <td>fluoxetina</td>\n",
       "      <td>fluoxetina 20 mg</td>\n",
       "      <td>mg</td>\n",
       "      <td>Tableta o cápsula</td>\n",
       "      <td>Fluoxetina</td>\n",
       "      <td>Genfar</td>\n",
       "      <td>Fluoxetina (Genfar) - Cada capsula contiene: f...</td>\n",
       "      <td>Comercial</td>\n",
       "      <td>363.13</td>\n",
       "      <td>Medio</td>\n",
       "      <td>2</td>\n",
       "    </tr>\n",
       "    <tr>\n",
       "      <th>2</th>\n",
       "      <td>111057</td>\n",
       "      <td>proximetacaina</td>\n",
       "      <td>proximetacaina 5 mg</td>\n",
       "      <td>ml</td>\n",
       "      <td>Solución o suspensión oftálmica</td>\n",
       "      <td>Alcaine</td>\n",
       "      <td>Alcon</td>\n",
       "      <td>Alcaine (Alcon) - frasco 15 ml - Cada 1 ml con...</td>\n",
       "      <td>Comercial</td>\n",
       "      <td>57,433.33</td>\n",
       "      <td>Medio</td>\n",
       "      <td>2</td>\n",
       "    </tr>\n",
       "    <tr>\n",
       "      <th>3</th>\n",
       "      <td>11415</td>\n",
       "      <td>alopurinol</td>\n",
       "      <td>alopurinol 300 mg</td>\n",
       "      <td>mg</td>\n",
       "      <td>Tableta o cápsula</td>\n",
       "      <td>Alopurinol</td>\n",
       "      <td>Memphis</td>\n",
       "      <td>Alopurinol (Memphis) - Cada tableta contiene: ...</td>\n",
       "      <td>Comercial</td>\n",
       "      <td>365.08</td>\n",
       "      <td>Medio</td>\n",
       "      <td>2</td>\n",
       "    </tr>\n",
       "    <tr>\n",
       "      <th>4</th>\n",
       "      <td>11416</td>\n",
       "      <td>haloperidol</td>\n",
       "      <td>haloperidol 10 mg</td>\n",
       "      <td>mg</td>\n",
       "      <td>Tableta o cápsula</td>\n",
       "      <td>Haloperidol</td>\n",
       "      <td>Memphis</td>\n",
       "      <td>Haloperidol (Memphis) - Cada tableta contiene:...</td>\n",
       "      <td>Comercial</td>\n",
       "      <td>533.81</td>\n",
       "      <td>Alto</td>\n",
       "      <td>3</td>\n",
       "    </tr>\n",
       "    <tr>\n",
       "      <th>...</th>\n",
       "      <td>...</td>\n",
       "      <td>...</td>\n",
       "      <td>...</td>\n",
       "      <td>...</td>\n",
       "      <td>...</td>\n",
       "      <td>...</td>\n",
       "      <td>...</td>\n",
       "      <td>...</td>\n",
       "      <td>...</td>\n",
       "      <td>...</td>\n",
       "      <td>...</td>\n",
       "      <td>...</td>\n",
       "    </tr>\n",
       "    <tr>\n",
       "      <th>11869</th>\n",
       "      <td>93689</td>\n",
       "      <td>acido valproico</td>\n",
       "      <td>acido valproico 250 mg</td>\n",
       "      <td>mg</td>\n",
       "      <td>Tableta o cápsula de liberación modificada</td>\n",
       "      <td>Valcote</td>\n",
       "      <td>Lafrancol</td>\n",
       "      <td>Valcote (Lafrancol) - Cada tableta contiene: a...</td>\n",
       "      <td>Institucional</td>\n",
       "      <td>879.92</td>\n",
       "      <td>Medio</td>\n",
       "      <td>2</td>\n",
       "    </tr>\n",
       "    <tr>\n",
       "      <th>11870</th>\n",
       "      <td>94321</td>\n",
       "      <td>atropina</td>\n",
       "      <td>atropina 10 mg</td>\n",
       "      <td>ml</td>\n",
       "      <td>Solución o suspensión oftálmica</td>\n",
       "      <td>Atropina</td>\n",
       "      <td>Alcon</td>\n",
       "      <td>Atropina (Alcon) - frasco 5 ml - Cada 1 ml con...</td>\n",
       "      <td>Institucional</td>\n",
       "      <td>18,240.50</td>\n",
       "      <td>Medio</td>\n",
       "      <td>2</td>\n",
       "    </tr>\n",
       "    <tr>\n",
       "      <th>11871</th>\n",
       "      <td>9444</td>\n",
       "      <td>valaciclovir</td>\n",
       "      <td>valaciclovir 500 mg</td>\n",
       "      <td>mg</td>\n",
       "      <td>Tableta o cápsula</td>\n",
       "      <td>Valtrex</td>\n",
       "      <td>Glaxosmithkline</td>\n",
       "      <td>Valtrex (Glaxosmithkline) - Cada tableta conti...</td>\n",
       "      <td>Institucional</td>\n",
       "      <td>11,705.00</td>\n",
       "      <td>Alto</td>\n",
       "      <td>3</td>\n",
       "    </tr>\n",
       "    <tr>\n",
       "      <th>11872</th>\n",
       "      <td>9716</td>\n",
       "      <td>budesonida</td>\n",
       "      <td>budesonida 50 mcg</td>\n",
       "      <td>dosis</td>\n",
       "      <td>Aerosoles</td>\n",
       "      <td>B-Cort</td>\n",
       "      <td>Grunenthal</td>\n",
       "      <td>B-Cort (Grunenthal) - aerosol 200 dosis - Cada...</td>\n",
       "      <td>Institucional</td>\n",
       "      <td>29,246.00</td>\n",
       "      <td>Medio</td>\n",
       "      <td>2</td>\n",
       "    </tr>\n",
       "    <tr>\n",
       "      <th>11873</th>\n",
       "      <td>9812</td>\n",
       "      <td>metocarbamol</td>\n",
       "      <td>metocarbamol 750 mg</td>\n",
       "      <td>mg</td>\n",
       "      <td>Tableta o cápsula</td>\n",
       "      <td>Metocarbamol</td>\n",
       "      <td>Memphis</td>\n",
       "      <td>Metocarbamol (Memphis) - Cada tableta contiene...</td>\n",
       "      <td>Institucional</td>\n",
       "      <td>563.50</td>\n",
       "      <td>Alto</td>\n",
       "      <td>3</td>\n",
       "    </tr>\n",
       "  </tbody>\n",
       "</table>\n",
       "<p>11874 rows × 12 columns</p>\n",
       "</div>"
      ],
      "text/plain": [
       "       Expediente_INVIMA principio_activo           concentracion unidad_base  \\\n",
       "0                 104739  acido valproico  acido valproico 500 mg          mg   \n",
       "1                  10815       fluoxetina        fluoxetina 20 mg          mg   \n",
       "2                 111057   proximetacaina     proximetacaina 5 mg          ml   \n",
       "3                  11415       alopurinol       alopurinol 300 mg          mg   \n",
       "4                  11416      haloperidol       haloperidol 10 mg          mg   \n",
       "...                  ...              ...                     ...         ...   \n",
       "11869              93689  acido valproico  acido valproico 250 mg          mg   \n",
       "11870              94321         atropina          atropina 10 mg          ml   \n",
       "11871               9444     valaciclovir     valaciclovir 500 mg          mg   \n",
       "11872               9716       budesonida       budesonida 50 mcg       dosis   \n",
       "11873               9812     metocarbamol     metocarbamol 750 mg          mg   \n",
       "\n",
       "                           unidad_de_dispensacion nombre_comercial  \\\n",
       "0                               Tableta o cápsula          Valcote   \n",
       "1                               Tableta o cápsula       Fluoxetina   \n",
       "2                 Solución o suspensión oftálmica          Alcaine   \n",
       "3                               Tableta o cápsula       Alopurinol   \n",
       "4                               Tableta o cápsula      Haloperidol   \n",
       "...                                           ...              ...   \n",
       "11869  Tableta o cápsula de liberación modificada          Valcote   \n",
       "11870             Solución o suspensión oftálmica         Atropina   \n",
       "11871                           Tableta o cápsula          Valtrex   \n",
       "11872                                   Aerosoles           B-Cort   \n",
       "11873                           Tableta o cápsula     Metocarbamol   \n",
       "\n",
       "            fabricante                                        medicamento  \\\n",
       "0            Lafrancol  Valcote (Lafrancol) - Cada tableta contiene: a...   \n",
       "1               Genfar  Fluoxetina (Genfar) - Cada capsula contiene: f...   \n",
       "2                Alcon  Alcaine (Alcon) - frasco 15 ml - Cada 1 ml con...   \n",
       "3              Memphis  Alopurinol (Memphis) - Cada tableta contiene: ...   \n",
       "4              Memphis  Haloperidol (Memphis) - Cada tableta contiene:...   \n",
       "...                ...                                                ...   \n",
       "11869        Lafrancol  Valcote (Lafrancol) - Cada tableta contiene: a...   \n",
       "11870            Alcon  Atropina (Alcon) - frasco 5 ml - Cada 1 ml con...   \n",
       "11871  Glaxosmithkline  Valtrex (Glaxosmithkline) - Cada tableta conti...   \n",
       "11872       Grunenthal  B-Cort (Grunenthal) - aerosol 200 dosis - Cada...   \n",
       "11873          Memphis  Metocarbamol (Memphis) - Cada tableta contiene...   \n",
       "\n",
       "               canal precio_por_tableta factoresprecio  numerofactor  \n",
       "0          Comercial           3,490.33          Medio             2  \n",
       "1          Comercial             363.13          Medio             2  \n",
       "2          Comercial          57,433.33          Medio             2  \n",
       "3          Comercial             365.08          Medio             2  \n",
       "4          Comercial             533.81           Alto             3  \n",
       "...              ...                ...            ...           ...  \n",
       "11869  Institucional             879.92          Medio             2  \n",
       "11870  Institucional          18,240.50          Medio             2  \n",
       "11871  Institucional          11,705.00           Alto             3  \n",
       "11872  Institucional          29,246.00          Medio             2  \n",
       "11873  Institucional             563.50           Alto             3  \n",
       "\n",
       "[11874 rows x 12 columns]"
      ]
     },
     "execution_count": 10,
     "metadata": {},
     "output_type": "execute_result"
    }
   ],
   "source": [
    "# Null values are padded with N/A\n",
    "df.fillna(\"N/A\")"
   ]
  },
  {
   "cell_type": "code",
   "execution_count": 11,
   "id": "b36cde68-459f-4593-8370-8f5310187d22",
   "metadata": {
    "tags": []
   },
   "outputs": [],
   "source": [
    "df['precio_por_tableta'] = df['precio_por_tableta'].str.replace(',', '').astype(float)"
   ]
  },
  {
   "cell_type": "code",
   "execution_count": 12,
   "id": "77adacad-f5dd-448e-b98e-8119fb878c31",
   "metadata": {
    "tags": []
   },
   "outputs": [
    {
     "name": "stdout",
     "output_type": "stream",
     "text": [
      "<class 'pandas.core.frame.DataFrame'>\n",
      "RangeIndex: 11874 entries, 0 to 11873\n",
      "Data columns (total 12 columns):\n",
      " #   Column                  Non-Null Count  Dtype  \n",
      "---  ------                  --------------  -----  \n",
      " 0   Expediente_INVIMA       11874 non-null  int64  \n",
      " 1   principio_activo        11874 non-null  object \n",
      " 2   concentracion           11874 non-null  object \n",
      " 3   unidad_base             11874 non-null  object \n",
      " 4   unidad_de_dispensacion  11874 non-null  object \n",
      " 5   nombre_comercial        11874 non-null  object \n",
      " 6   fabricante              11874 non-null  object \n",
      " 7   medicamento             11874 non-null  object \n",
      " 8   canal                   11874 non-null  object \n",
      " 9   precio_por_tableta      11874 non-null  float64\n",
      " 10  factoresprecio          11874 non-null  object \n",
      " 11  numerofactor            11874 non-null  int64  \n",
      "dtypes: float64(1), int64(2), object(9)\n",
      "memory usage: 1.1+ MB\n"
     ]
    }
   ],
   "source": [
    "# Verify that the change has been made\n",
    "df.info()"
   ]
  },
  {
   "cell_type": "code",
   "execution_count": 13,
   "id": "9f12e1c1-53c3-4563-8a03-b3247f7b93a5",
   "metadata": {
    "tags": []
   },
   "outputs": [
    {
     "data": {
      "text/plain": [
       "0        False\n",
       "1        False\n",
       "2        False\n",
       "3        False\n",
       "4        False\n",
       "         ...  \n",
       "11869    False\n",
       "11870    False\n",
       "11871    False\n",
       "11872    False\n",
       "11873    False\n",
       "Length: 11874, dtype: bool"
      ]
     },
     "execution_count": 13,
     "metadata": {},
     "output_type": "execute_result"
    }
   ],
   "source": [
    "# Check for duplicate rows\n",
    "duplicados = df.duplicated()\n",
    "duplicados"
   ]
  },
  {
   "cell_type": "code",
   "execution_count": 14,
   "id": "9cfbd48a-a185-4643-894f-f8d232716461",
   "metadata": {
    "tags": []
   },
   "outputs": [
    {
     "data": {
      "text/plain": [
       "array(['mg', 'ml', 'g', 'ui', 'dosis', 'mcg', 'metros cubicos', 'pfu',\n",
       "       'u', 'kg', 'mci', 'l', 'log tcid50', 'mcg/h', 'ufc', 'mg/24h',\n",
       "       'ccid50', 'mg/1h', 'mui', 'mbq', 'gbq'], dtype=object)"
      ]
     },
     "execution_count": 14,
     "metadata": {},
     "output_type": "execute_result"
    }
   ],
   "source": [
    "# Unique values of the columns of interest \n",
    "unique_unidad_base = df['unidad_base'].unique()\n",
    "unique_unidad_base"
   ]
  },
  {
   "cell_type": "code",
   "execution_count": 15,
   "id": "9adac612-9c0f-497b-8536-e42e52e5072e",
   "metadata": {
    "tags": []
   },
   "outputs": [
    {
     "data": {
      "text/plain": [
       "array(['Tableta o cápsula', 'Solución o suspensión oftálmica',\n",
       "       'Cremas o geles o ungüentos o pomadas o pastas o jaleas',\n",
       "       'Polvo para reconstituir a Solución o suspensión oral',\n",
       "       'Polvo para reconstituir a Solución o suspensión inyectable',\n",
       "       'Solución o suspensión inyectable', 'Jarabe',\n",
       "       'Solución o suspensión oral', 'Polvos o granulados',\n",
       "       'Solución o suspensión para inhalación', 'Óvulo',\n",
       "       'Emulsión inyectable', 'Solución o suspensión tópica', 'Implante',\n",
       "       'Aerosoles', 'Solución o suspensión ótica',\n",
       "       'Tableta o cápsula de liberación modificada',\n",
       "       'Polvos para Inhalación', 'Elixir o tintura', 'Loción',\n",
       "       'Emulsión Topica', 'Gas', 'Solución o suspensión bucal',\n",
       "       'Emulsión oftálmica', 'Tableta o cápsula vaginal', 'Supositorio',\n",
       "       'Parche', 'Solución o suspensión intranasal', 'Jabón',\n",
       "       'Solución o suspensión rectal', 'tableta o cápsula',\n",
       "       'Emulsión Oral'], dtype=object)"
      ]
     },
     "execution_count": 15,
     "metadata": {},
     "output_type": "execute_result"
    }
   ],
   "source": [
    "unique_unidad_de_dispensacion = df['unidad_de_dispensacion'].unique()\n",
    "unique_unidad_de_dispensacion"
   ]
  },
  {
   "cell_type": "code",
   "execution_count": 16,
   "id": "aaaaf15d-e765-4dd7-ab47-3656ae3a8ba0",
   "metadata": {
    "tags": []
   },
   "outputs": [
    {
     "data": {
      "text/plain": [
       "array(['Comercial', 'Institucional'], dtype=object)"
      ]
     },
     "execution_count": 16,
     "metadata": {},
     "output_type": "execute_result"
    }
   ],
   "source": [
    "unique_canal = df['canal'].unique()\n",
    "unique_canal"
   ]
  },
  {
   "cell_type": "code",
   "execution_count": 17,
   "id": "37329056-1b20-415b-bc8e-8931f2768e64",
   "metadata": {
    "tags": []
   },
   "outputs": [],
   "source": [
    "# Creation of columns with boolean value according to considerations in the analysis of the data"
   ]
  },
  {
   "cell_type": "code",
   "execution_count": 18,
   "id": "2a215a23-20be-4464-9c40-24180a29b202",
   "metadata": {
    "tags": []
   },
   "outputs": [
    {
     "data": {
      "text/html": [
       "<div>\n",
       "<style scoped>\n",
       "    .dataframe tbody tr th:only-of-type {\n",
       "        vertical-align: middle;\n",
       "    }\n",
       "\n",
       "    .dataframe tbody tr th {\n",
       "        vertical-align: top;\n",
       "    }\n",
       "\n",
       "    .dataframe thead th {\n",
       "        text-align: right;\n",
       "    }\n",
       "</style>\n",
       "<table border=\"1\" class=\"dataframe\">\n",
       "  <thead>\n",
       "    <tr style=\"text-align: right;\">\n",
       "      <th></th>\n",
       "      <th>Expediente_INVIMA</th>\n",
       "      <th>principio_activo</th>\n",
       "      <th>concentracion</th>\n",
       "      <th>unidad_base</th>\n",
       "      <th>unidad_de_dispensacion</th>\n",
       "      <th>nombre_comercial</th>\n",
       "      <th>fabricante</th>\n",
       "      <th>medicamento</th>\n",
       "      <th>canal</th>\n",
       "      <th>precio_por_tableta</th>\n",
       "      <th>factoresprecio</th>\n",
       "      <th>numerofactor</th>\n",
       "      <th>canal_institucional</th>\n",
       "    </tr>\n",
       "  </thead>\n",
       "  <tbody>\n",
       "    <tr>\n",
       "      <th>0</th>\n",
       "      <td>104739</td>\n",
       "      <td>acido valproico</td>\n",
       "      <td>acido valproico 500 mg</td>\n",
       "      <td>mg</td>\n",
       "      <td>Tableta o cápsula</td>\n",
       "      <td>Valcote</td>\n",
       "      <td>Lafrancol</td>\n",
       "      <td>Valcote (Lafrancol) - Cada tableta contiene: a...</td>\n",
       "      <td>Comercial</td>\n",
       "      <td>3490.33</td>\n",
       "      <td>Medio</td>\n",
       "      <td>2</td>\n",
       "      <td>False</td>\n",
       "    </tr>\n",
       "    <tr>\n",
       "      <th>1</th>\n",
       "      <td>10815</td>\n",
       "      <td>fluoxetina</td>\n",
       "      <td>fluoxetina 20 mg</td>\n",
       "      <td>mg</td>\n",
       "      <td>Tableta o cápsula</td>\n",
       "      <td>Fluoxetina</td>\n",
       "      <td>Genfar</td>\n",
       "      <td>Fluoxetina (Genfar) - Cada capsula contiene: f...</td>\n",
       "      <td>Comercial</td>\n",
       "      <td>363.13</td>\n",
       "      <td>Medio</td>\n",
       "      <td>2</td>\n",
       "      <td>False</td>\n",
       "    </tr>\n",
       "    <tr>\n",
       "      <th>2</th>\n",
       "      <td>111057</td>\n",
       "      <td>proximetacaina</td>\n",
       "      <td>proximetacaina 5 mg</td>\n",
       "      <td>ml</td>\n",
       "      <td>Solución o suspensión oftálmica</td>\n",
       "      <td>Alcaine</td>\n",
       "      <td>Alcon</td>\n",
       "      <td>Alcaine (Alcon) - frasco 15 ml - Cada 1 ml con...</td>\n",
       "      <td>Comercial</td>\n",
       "      <td>57433.33</td>\n",
       "      <td>Medio</td>\n",
       "      <td>2</td>\n",
       "      <td>False</td>\n",
       "    </tr>\n",
       "    <tr>\n",
       "      <th>3</th>\n",
       "      <td>11415</td>\n",
       "      <td>alopurinol</td>\n",
       "      <td>alopurinol 300 mg</td>\n",
       "      <td>mg</td>\n",
       "      <td>Tableta o cápsula</td>\n",
       "      <td>Alopurinol</td>\n",
       "      <td>Memphis</td>\n",
       "      <td>Alopurinol (Memphis) - Cada tableta contiene: ...</td>\n",
       "      <td>Comercial</td>\n",
       "      <td>365.08</td>\n",
       "      <td>Medio</td>\n",
       "      <td>2</td>\n",
       "      <td>False</td>\n",
       "    </tr>\n",
       "    <tr>\n",
       "      <th>4</th>\n",
       "      <td>11416</td>\n",
       "      <td>haloperidol</td>\n",
       "      <td>haloperidol 10 mg</td>\n",
       "      <td>mg</td>\n",
       "      <td>Tableta o cápsula</td>\n",
       "      <td>Haloperidol</td>\n",
       "      <td>Memphis</td>\n",
       "      <td>Haloperidol (Memphis) - Cada tableta contiene:...</td>\n",
       "      <td>Comercial</td>\n",
       "      <td>533.81</td>\n",
       "      <td>Alto</td>\n",
       "      <td>3</td>\n",
       "      <td>False</td>\n",
       "    </tr>\n",
       "    <tr>\n",
       "      <th>...</th>\n",
       "      <td>...</td>\n",
       "      <td>...</td>\n",
       "      <td>...</td>\n",
       "      <td>...</td>\n",
       "      <td>...</td>\n",
       "      <td>...</td>\n",
       "      <td>...</td>\n",
       "      <td>...</td>\n",
       "      <td>...</td>\n",
       "      <td>...</td>\n",
       "      <td>...</td>\n",
       "      <td>...</td>\n",
       "      <td>...</td>\n",
       "    </tr>\n",
       "    <tr>\n",
       "      <th>11869</th>\n",
       "      <td>93689</td>\n",
       "      <td>acido valproico</td>\n",
       "      <td>acido valproico 250 mg</td>\n",
       "      <td>mg</td>\n",
       "      <td>Tableta o cápsula de liberación modificada</td>\n",
       "      <td>Valcote</td>\n",
       "      <td>Lafrancol</td>\n",
       "      <td>Valcote (Lafrancol) - Cada tableta contiene: a...</td>\n",
       "      <td>Institucional</td>\n",
       "      <td>879.92</td>\n",
       "      <td>Medio</td>\n",
       "      <td>2</td>\n",
       "      <td>True</td>\n",
       "    </tr>\n",
       "    <tr>\n",
       "      <th>11870</th>\n",
       "      <td>94321</td>\n",
       "      <td>atropina</td>\n",
       "      <td>atropina 10 mg</td>\n",
       "      <td>ml</td>\n",
       "      <td>Solución o suspensión oftálmica</td>\n",
       "      <td>Atropina</td>\n",
       "      <td>Alcon</td>\n",
       "      <td>Atropina (Alcon) - frasco 5 ml - Cada 1 ml con...</td>\n",
       "      <td>Institucional</td>\n",
       "      <td>18240.50</td>\n",
       "      <td>Medio</td>\n",
       "      <td>2</td>\n",
       "      <td>True</td>\n",
       "    </tr>\n",
       "    <tr>\n",
       "      <th>11871</th>\n",
       "      <td>9444</td>\n",
       "      <td>valaciclovir</td>\n",
       "      <td>valaciclovir 500 mg</td>\n",
       "      <td>mg</td>\n",
       "      <td>Tableta o cápsula</td>\n",
       "      <td>Valtrex</td>\n",
       "      <td>Glaxosmithkline</td>\n",
       "      <td>Valtrex (Glaxosmithkline) - Cada tableta conti...</td>\n",
       "      <td>Institucional</td>\n",
       "      <td>11705.00</td>\n",
       "      <td>Alto</td>\n",
       "      <td>3</td>\n",
       "      <td>True</td>\n",
       "    </tr>\n",
       "    <tr>\n",
       "      <th>11872</th>\n",
       "      <td>9716</td>\n",
       "      <td>budesonida</td>\n",
       "      <td>budesonida 50 mcg</td>\n",
       "      <td>dosis</td>\n",
       "      <td>Aerosoles</td>\n",
       "      <td>B-Cort</td>\n",
       "      <td>Grunenthal</td>\n",
       "      <td>B-Cort (Grunenthal) - aerosol 200 dosis - Cada...</td>\n",
       "      <td>Institucional</td>\n",
       "      <td>29246.00</td>\n",
       "      <td>Medio</td>\n",
       "      <td>2</td>\n",
       "      <td>True</td>\n",
       "    </tr>\n",
       "    <tr>\n",
       "      <th>11873</th>\n",
       "      <td>9812</td>\n",
       "      <td>metocarbamol</td>\n",
       "      <td>metocarbamol 750 mg</td>\n",
       "      <td>mg</td>\n",
       "      <td>Tableta o cápsula</td>\n",
       "      <td>Metocarbamol</td>\n",
       "      <td>Memphis</td>\n",
       "      <td>Metocarbamol (Memphis) - Cada tableta contiene...</td>\n",
       "      <td>Institucional</td>\n",
       "      <td>563.50</td>\n",
       "      <td>Alto</td>\n",
       "      <td>3</td>\n",
       "      <td>True</td>\n",
       "    </tr>\n",
       "  </tbody>\n",
       "</table>\n",
       "<p>11874 rows × 13 columns</p>\n",
       "</div>"
      ],
      "text/plain": [
       "       Expediente_INVIMA principio_activo           concentracion unidad_base  \\\n",
       "0                 104739  acido valproico  acido valproico 500 mg          mg   \n",
       "1                  10815       fluoxetina        fluoxetina 20 mg          mg   \n",
       "2                 111057   proximetacaina     proximetacaina 5 mg          ml   \n",
       "3                  11415       alopurinol       alopurinol 300 mg          mg   \n",
       "4                  11416      haloperidol       haloperidol 10 mg          mg   \n",
       "...                  ...              ...                     ...         ...   \n",
       "11869              93689  acido valproico  acido valproico 250 mg          mg   \n",
       "11870              94321         atropina          atropina 10 mg          ml   \n",
       "11871               9444     valaciclovir     valaciclovir 500 mg          mg   \n",
       "11872               9716       budesonida       budesonida 50 mcg       dosis   \n",
       "11873               9812     metocarbamol     metocarbamol 750 mg          mg   \n",
       "\n",
       "                           unidad_de_dispensacion nombre_comercial  \\\n",
       "0                               Tableta o cápsula          Valcote   \n",
       "1                               Tableta o cápsula       Fluoxetina   \n",
       "2                 Solución o suspensión oftálmica          Alcaine   \n",
       "3                               Tableta o cápsula       Alopurinol   \n",
       "4                               Tableta o cápsula      Haloperidol   \n",
       "...                                           ...              ...   \n",
       "11869  Tableta o cápsula de liberación modificada          Valcote   \n",
       "11870             Solución o suspensión oftálmica         Atropina   \n",
       "11871                           Tableta o cápsula          Valtrex   \n",
       "11872                                   Aerosoles           B-Cort   \n",
       "11873                           Tableta o cápsula     Metocarbamol   \n",
       "\n",
       "            fabricante                                        medicamento  \\\n",
       "0            Lafrancol  Valcote (Lafrancol) - Cada tableta contiene: a...   \n",
       "1               Genfar  Fluoxetina (Genfar) - Cada capsula contiene: f...   \n",
       "2                Alcon  Alcaine (Alcon) - frasco 15 ml - Cada 1 ml con...   \n",
       "3              Memphis  Alopurinol (Memphis) - Cada tableta contiene: ...   \n",
       "4              Memphis  Haloperidol (Memphis) - Cada tableta contiene:...   \n",
       "...                ...                                                ...   \n",
       "11869        Lafrancol  Valcote (Lafrancol) - Cada tableta contiene: a...   \n",
       "11870            Alcon  Atropina (Alcon) - frasco 5 ml - Cada 1 ml con...   \n",
       "11871  Glaxosmithkline  Valtrex (Glaxosmithkline) - Cada tableta conti...   \n",
       "11872       Grunenthal  B-Cort (Grunenthal) - aerosol 200 dosis - Cada...   \n",
       "11873          Memphis  Metocarbamol (Memphis) - Cada tableta contiene...   \n",
       "\n",
       "               canal  precio_por_tableta factoresprecio  numerofactor  \\\n",
       "0          Comercial             3490.33          Medio             2   \n",
       "1          Comercial              363.13          Medio             2   \n",
       "2          Comercial            57433.33          Medio             2   \n",
       "3          Comercial              365.08          Medio             2   \n",
       "4          Comercial              533.81           Alto             3   \n",
       "...              ...                 ...            ...           ...   \n",
       "11869  Institucional              879.92          Medio             2   \n",
       "11870  Institucional            18240.50          Medio             2   \n",
       "11871  Institucional            11705.00           Alto             3   \n",
       "11872  Institucional            29246.00          Medio             2   \n",
       "11873  Institucional              563.50           Alto             3   \n",
       "\n",
       "       canal_institucional  \n",
       "0                    False  \n",
       "1                    False  \n",
       "2                    False  \n",
       "3                    False  \n",
       "4                    False  \n",
       "...                    ...  \n",
       "11869                 True  \n",
       "11870                 True  \n",
       "11871                 True  \n",
       "11872                 True  \n",
       "11873                 True  \n",
       "\n",
       "[11874 rows x 13 columns]"
      ]
     },
     "execution_count": 18,
     "metadata": {},
     "output_type": "execute_result"
    }
   ],
   "source": [
    "df['canal_institucional'] = df['canal'] == 'Institucional'\n",
    "df"
   ]
  },
  {
   "cell_type": "code",
   "execution_count": 19,
   "id": "7d152c08-74af-4fe1-908d-2d253e86c60d",
   "metadata": {
    "tags": []
   },
   "outputs": [],
   "source": [
    "# DESCRIPTION OF THE DATA "
   ]
  },
  {
   "cell_type": "code",
   "execution_count": 20,
   "id": "4a9c044c-5200-41f8-9d40-0f3e8baaf1c9",
   "metadata": {
    "tags": []
   },
   "outputs": [
    {
     "data": {
      "text/html": [
       "<div>\n",
       "<style scoped>\n",
       "    .dataframe tbody tr th:only-of-type {\n",
       "        vertical-align: middle;\n",
       "    }\n",
       "\n",
       "    .dataframe tbody tr th {\n",
       "        vertical-align: top;\n",
       "    }\n",
       "\n",
       "    .dataframe thead th {\n",
       "        text-align: right;\n",
       "    }\n",
       "</style>\n",
       "<table border=\"1\" class=\"dataframe\">\n",
       "  <thead>\n",
       "    <tr style=\"text-align: right;\">\n",
       "      <th></th>\n",
       "      <th>Expediente_INVIMA</th>\n",
       "      <th>precio_por_tableta</th>\n",
       "      <th>numerofactor</th>\n",
       "    </tr>\n",
       "  </thead>\n",
       "  <tbody>\n",
       "    <tr>\n",
       "      <th>count</th>\n",
       "      <td>1.187400e+04</td>\n",
       "      <td>1.187400e+04</td>\n",
       "      <td>11874.000000</td>\n",
       "    </tr>\n",
       "    <tr>\n",
       "      <th>mean</th>\n",
       "      <td>1.648629e+07</td>\n",
       "      <td>1.690903e+05</td>\n",
       "      <td>1.999579</td>\n",
       "    </tr>\n",
       "    <tr>\n",
       "      <th>std</th>\n",
       "      <td>7.604860e+06</td>\n",
       "      <td>2.801277e+06</td>\n",
       "      <td>0.628702</td>\n",
       "    </tr>\n",
       "    <tr>\n",
       "      <th>min</th>\n",
       "      <td>2.202000e+03</td>\n",
       "      <td>1.700000e-01</td>\n",
       "      <td>1.000000</td>\n",
       "    </tr>\n",
       "    <tr>\n",
       "      <th>25%</th>\n",
       "      <td>1.993300e+07</td>\n",
       "      <td>1.041742e+03</td>\n",
       "      <td>2.000000</td>\n",
       "    </tr>\n",
       "    <tr>\n",
       "      <th>50%</th>\n",
       "      <td>1.999939e+07</td>\n",
       "      <td>4.029975e+03</td>\n",
       "      <td>2.000000</td>\n",
       "    </tr>\n",
       "    <tr>\n",
       "      <th>75%</th>\n",
       "      <td>2.006905e+07</td>\n",
       "      <td>1.957238e+04</td>\n",
       "      <td>2.000000</td>\n",
       "    </tr>\n",
       "    <tr>\n",
       "      <th>max</th>\n",
       "      <td>2.021943e+07</td>\n",
       "      <td>2.484089e+08</td>\n",
       "      <td>3.000000</td>\n",
       "    </tr>\n",
       "  </tbody>\n",
       "</table>\n",
       "</div>"
      ],
      "text/plain": [
       "       Expediente_INVIMA  precio_por_tableta  numerofactor\n",
       "count       1.187400e+04        1.187400e+04  11874.000000\n",
       "mean        1.648629e+07        1.690903e+05      1.999579\n",
       "std         7.604860e+06        2.801277e+06      0.628702\n",
       "min         2.202000e+03        1.700000e-01      1.000000\n",
       "25%         1.993300e+07        1.041742e+03      2.000000\n",
       "50%         1.999939e+07        4.029975e+03      2.000000\n",
       "75%         2.006905e+07        1.957238e+04      2.000000\n",
       "max         2.021943e+07        2.484089e+08      3.000000"
      ]
     },
     "execution_count": 20,
     "metadata": {},
     "output_type": "execute_result"
    }
   ],
   "source": [
    "# Get descriptive statistics from numeric columns\n",
    "df.describe()"
   ]
  },
  {
   "cell_type": "code",
   "execution_count": 21,
   "id": "d22656ed-ac66-40db-95c2-f78a511b14e6",
   "metadata": {},
   "outputs": [],
   "source": [
    "# ANALYSIS OF CORRELATIONS WITH MATPLOTLIB"
   ]
  },
  {
   "cell_type": "code",
   "execution_count": 22,
   "id": "8a640cac-84de-43f5-b987-163ee797e6a2",
   "metadata": {},
   "outputs": [],
   "source": [
    "df['concentracion_numero'] = df['concentracion'].str.extract('(\\d+)').astype(float)"
   ]
  },
  {
   "cell_type": "code",
   "execution_count": 23,
   "id": "6d04c03c-1b43-4be8-af54-a073cbe374e5",
   "metadata": {},
   "outputs": [
    {
     "data": {
      "text/html": [
       "<div>\n",
       "<style scoped>\n",
       "    .dataframe tbody tr th:only-of-type {\n",
       "        vertical-align: middle;\n",
       "    }\n",
       "\n",
       "    .dataframe tbody tr th {\n",
       "        vertical-align: top;\n",
       "    }\n",
       "\n",
       "    .dataframe thead th {\n",
       "        text-align: right;\n",
       "    }\n",
       "</style>\n",
       "<table border=\"1\" class=\"dataframe\">\n",
       "  <thead>\n",
       "    <tr style=\"text-align: right;\">\n",
       "      <th></th>\n",
       "      <th>Expediente_INVIMA</th>\n",
       "      <th>principio_activo</th>\n",
       "      <th>concentracion</th>\n",
       "      <th>unidad_base</th>\n",
       "      <th>unidad_de_dispensacion</th>\n",
       "      <th>nombre_comercial</th>\n",
       "      <th>fabricante</th>\n",
       "      <th>medicamento</th>\n",
       "      <th>canal</th>\n",
       "      <th>precio_por_tableta</th>\n",
       "      <th>factoresprecio</th>\n",
       "      <th>numerofactor</th>\n",
       "      <th>canal_institucional</th>\n",
       "      <th>concentracion_numero</th>\n",
       "    </tr>\n",
       "  </thead>\n",
       "  <tbody>\n",
       "    <tr>\n",
       "      <th>0</th>\n",
       "      <td>104739</td>\n",
       "      <td>acido valproico</td>\n",
       "      <td>acido valproico 500 mg</td>\n",
       "      <td>mg</td>\n",
       "      <td>Tableta o cápsula</td>\n",
       "      <td>Valcote</td>\n",
       "      <td>Lafrancol</td>\n",
       "      <td>Valcote (Lafrancol) - Cada tableta contiene: a...</td>\n",
       "      <td>Comercial</td>\n",
       "      <td>3490.33</td>\n",
       "      <td>Medio</td>\n",
       "      <td>2</td>\n",
       "      <td>False</td>\n",
       "      <td>500.0</td>\n",
       "    </tr>\n",
       "    <tr>\n",
       "      <th>1</th>\n",
       "      <td>10815</td>\n",
       "      <td>fluoxetina</td>\n",
       "      <td>fluoxetina 20 mg</td>\n",
       "      <td>mg</td>\n",
       "      <td>Tableta o cápsula</td>\n",
       "      <td>Fluoxetina</td>\n",
       "      <td>Genfar</td>\n",
       "      <td>Fluoxetina (Genfar) - Cada capsula contiene: f...</td>\n",
       "      <td>Comercial</td>\n",
       "      <td>363.13</td>\n",
       "      <td>Medio</td>\n",
       "      <td>2</td>\n",
       "      <td>False</td>\n",
       "      <td>20.0</td>\n",
       "    </tr>\n",
       "    <tr>\n",
       "      <th>2</th>\n",
       "      <td>111057</td>\n",
       "      <td>proximetacaina</td>\n",
       "      <td>proximetacaina 5 mg</td>\n",
       "      <td>ml</td>\n",
       "      <td>Solución o suspensión oftálmica</td>\n",
       "      <td>Alcaine</td>\n",
       "      <td>Alcon</td>\n",
       "      <td>Alcaine (Alcon) - frasco 15 ml - Cada 1 ml con...</td>\n",
       "      <td>Comercial</td>\n",
       "      <td>57433.33</td>\n",
       "      <td>Medio</td>\n",
       "      <td>2</td>\n",
       "      <td>False</td>\n",
       "      <td>5.0</td>\n",
       "    </tr>\n",
       "    <tr>\n",
       "      <th>3</th>\n",
       "      <td>11415</td>\n",
       "      <td>alopurinol</td>\n",
       "      <td>alopurinol 300 mg</td>\n",
       "      <td>mg</td>\n",
       "      <td>Tableta o cápsula</td>\n",
       "      <td>Alopurinol</td>\n",
       "      <td>Memphis</td>\n",
       "      <td>Alopurinol (Memphis) - Cada tableta contiene: ...</td>\n",
       "      <td>Comercial</td>\n",
       "      <td>365.08</td>\n",
       "      <td>Medio</td>\n",
       "      <td>2</td>\n",
       "      <td>False</td>\n",
       "      <td>300.0</td>\n",
       "    </tr>\n",
       "    <tr>\n",
       "      <th>4</th>\n",
       "      <td>11416</td>\n",
       "      <td>haloperidol</td>\n",
       "      <td>haloperidol 10 mg</td>\n",
       "      <td>mg</td>\n",
       "      <td>Tableta o cápsula</td>\n",
       "      <td>Haloperidol</td>\n",
       "      <td>Memphis</td>\n",
       "      <td>Haloperidol (Memphis) - Cada tableta contiene:...</td>\n",
       "      <td>Comercial</td>\n",
       "      <td>533.81</td>\n",
       "      <td>Alto</td>\n",
       "      <td>3</td>\n",
       "      <td>False</td>\n",
       "      <td>10.0</td>\n",
       "    </tr>\n",
       "    <tr>\n",
       "      <th>...</th>\n",
       "      <td>...</td>\n",
       "      <td>...</td>\n",
       "      <td>...</td>\n",
       "      <td>...</td>\n",
       "      <td>...</td>\n",
       "      <td>...</td>\n",
       "      <td>...</td>\n",
       "      <td>...</td>\n",
       "      <td>...</td>\n",
       "      <td>...</td>\n",
       "      <td>...</td>\n",
       "      <td>...</td>\n",
       "      <td>...</td>\n",
       "      <td>...</td>\n",
       "    </tr>\n",
       "    <tr>\n",
       "      <th>11869</th>\n",
       "      <td>93689</td>\n",
       "      <td>acido valproico</td>\n",
       "      <td>acido valproico 250 mg</td>\n",
       "      <td>mg</td>\n",
       "      <td>Tableta o cápsula de liberación modificada</td>\n",
       "      <td>Valcote</td>\n",
       "      <td>Lafrancol</td>\n",
       "      <td>Valcote (Lafrancol) - Cada tableta contiene: a...</td>\n",
       "      <td>Institucional</td>\n",
       "      <td>879.92</td>\n",
       "      <td>Medio</td>\n",
       "      <td>2</td>\n",
       "      <td>True</td>\n",
       "      <td>250.0</td>\n",
       "    </tr>\n",
       "    <tr>\n",
       "      <th>11870</th>\n",
       "      <td>94321</td>\n",
       "      <td>atropina</td>\n",
       "      <td>atropina 10 mg</td>\n",
       "      <td>ml</td>\n",
       "      <td>Solución o suspensión oftálmica</td>\n",
       "      <td>Atropina</td>\n",
       "      <td>Alcon</td>\n",
       "      <td>Atropina (Alcon) - frasco 5 ml - Cada 1 ml con...</td>\n",
       "      <td>Institucional</td>\n",
       "      <td>18240.50</td>\n",
       "      <td>Medio</td>\n",
       "      <td>2</td>\n",
       "      <td>True</td>\n",
       "      <td>10.0</td>\n",
       "    </tr>\n",
       "    <tr>\n",
       "      <th>11871</th>\n",
       "      <td>9444</td>\n",
       "      <td>valaciclovir</td>\n",
       "      <td>valaciclovir 500 mg</td>\n",
       "      <td>mg</td>\n",
       "      <td>Tableta o cápsula</td>\n",
       "      <td>Valtrex</td>\n",
       "      <td>Glaxosmithkline</td>\n",
       "      <td>Valtrex (Glaxosmithkline) - Cada tableta conti...</td>\n",
       "      <td>Institucional</td>\n",
       "      <td>11705.00</td>\n",
       "      <td>Alto</td>\n",
       "      <td>3</td>\n",
       "      <td>True</td>\n",
       "      <td>500.0</td>\n",
       "    </tr>\n",
       "    <tr>\n",
       "      <th>11872</th>\n",
       "      <td>9716</td>\n",
       "      <td>budesonida</td>\n",
       "      <td>budesonida 50 mcg</td>\n",
       "      <td>dosis</td>\n",
       "      <td>Aerosoles</td>\n",
       "      <td>B-Cort</td>\n",
       "      <td>Grunenthal</td>\n",
       "      <td>B-Cort (Grunenthal) - aerosol 200 dosis - Cada...</td>\n",
       "      <td>Institucional</td>\n",
       "      <td>29246.00</td>\n",
       "      <td>Medio</td>\n",
       "      <td>2</td>\n",
       "      <td>True</td>\n",
       "      <td>50.0</td>\n",
       "    </tr>\n",
       "    <tr>\n",
       "      <th>11873</th>\n",
       "      <td>9812</td>\n",
       "      <td>metocarbamol</td>\n",
       "      <td>metocarbamol 750 mg</td>\n",
       "      <td>mg</td>\n",
       "      <td>Tableta o cápsula</td>\n",
       "      <td>Metocarbamol</td>\n",
       "      <td>Memphis</td>\n",
       "      <td>Metocarbamol (Memphis) - Cada tableta contiene...</td>\n",
       "      <td>Institucional</td>\n",
       "      <td>563.50</td>\n",
       "      <td>Alto</td>\n",
       "      <td>3</td>\n",
       "      <td>True</td>\n",
       "      <td>750.0</td>\n",
       "    </tr>\n",
       "  </tbody>\n",
       "</table>\n",
       "<p>11874 rows × 14 columns</p>\n",
       "</div>"
      ],
      "text/plain": [
       "       Expediente_INVIMA principio_activo           concentracion unidad_base  \\\n",
       "0                 104739  acido valproico  acido valproico 500 mg          mg   \n",
       "1                  10815       fluoxetina        fluoxetina 20 mg          mg   \n",
       "2                 111057   proximetacaina     proximetacaina 5 mg          ml   \n",
       "3                  11415       alopurinol       alopurinol 300 mg          mg   \n",
       "4                  11416      haloperidol       haloperidol 10 mg          mg   \n",
       "...                  ...              ...                     ...         ...   \n",
       "11869              93689  acido valproico  acido valproico 250 mg          mg   \n",
       "11870              94321         atropina          atropina 10 mg          ml   \n",
       "11871               9444     valaciclovir     valaciclovir 500 mg          mg   \n",
       "11872               9716       budesonida       budesonida 50 mcg       dosis   \n",
       "11873               9812     metocarbamol     metocarbamol 750 mg          mg   \n",
       "\n",
       "                           unidad_de_dispensacion nombre_comercial  \\\n",
       "0                               Tableta o cápsula          Valcote   \n",
       "1                               Tableta o cápsula       Fluoxetina   \n",
       "2                 Solución o suspensión oftálmica          Alcaine   \n",
       "3                               Tableta o cápsula       Alopurinol   \n",
       "4                               Tableta o cápsula      Haloperidol   \n",
       "...                                           ...              ...   \n",
       "11869  Tableta o cápsula de liberación modificada          Valcote   \n",
       "11870             Solución o suspensión oftálmica         Atropina   \n",
       "11871                           Tableta o cápsula          Valtrex   \n",
       "11872                                   Aerosoles           B-Cort   \n",
       "11873                           Tableta o cápsula     Metocarbamol   \n",
       "\n",
       "            fabricante                                        medicamento  \\\n",
       "0            Lafrancol  Valcote (Lafrancol) - Cada tableta contiene: a...   \n",
       "1               Genfar  Fluoxetina (Genfar) - Cada capsula contiene: f...   \n",
       "2                Alcon  Alcaine (Alcon) - frasco 15 ml - Cada 1 ml con...   \n",
       "3              Memphis  Alopurinol (Memphis) - Cada tableta contiene: ...   \n",
       "4              Memphis  Haloperidol (Memphis) - Cada tableta contiene:...   \n",
       "...                ...                                                ...   \n",
       "11869        Lafrancol  Valcote (Lafrancol) - Cada tableta contiene: a...   \n",
       "11870            Alcon  Atropina (Alcon) - frasco 5 ml - Cada 1 ml con...   \n",
       "11871  Glaxosmithkline  Valtrex (Glaxosmithkline) - Cada tableta conti...   \n",
       "11872       Grunenthal  B-Cort (Grunenthal) - aerosol 200 dosis - Cada...   \n",
       "11873          Memphis  Metocarbamol (Memphis) - Cada tableta contiene...   \n",
       "\n",
       "               canal  precio_por_tableta factoresprecio  numerofactor  \\\n",
       "0          Comercial             3490.33          Medio             2   \n",
       "1          Comercial              363.13          Medio             2   \n",
       "2          Comercial            57433.33          Medio             2   \n",
       "3          Comercial              365.08          Medio             2   \n",
       "4          Comercial              533.81           Alto             3   \n",
       "...              ...                 ...            ...           ...   \n",
       "11869  Institucional              879.92          Medio             2   \n",
       "11870  Institucional            18240.50          Medio             2   \n",
       "11871  Institucional            11705.00           Alto             3   \n",
       "11872  Institucional            29246.00          Medio             2   \n",
       "11873  Institucional              563.50           Alto             3   \n",
       "\n",
       "       canal_institucional  concentracion_numero  \n",
       "0                    False                 500.0  \n",
       "1                    False                  20.0  \n",
       "2                    False                   5.0  \n",
       "3                    False                 300.0  \n",
       "4                    False                  10.0  \n",
       "...                    ...                   ...  \n",
       "11869                 True                 250.0  \n",
       "11870                 True                  10.0  \n",
       "11871                 True                 500.0  \n",
       "11872                 True                  50.0  \n",
       "11873                 True                 750.0  \n",
       "\n",
       "[11874 rows x 14 columns]"
      ]
     },
     "execution_count": 23,
     "metadata": {},
     "output_type": "execute_result"
    }
   ],
   "source": [
    "df"
   ]
  },
  {
   "cell_type": "code",
   "execution_count": 24,
   "id": "27d6d753-17f3-4d41-8e0c-f3da897da744",
   "metadata": {},
   "outputs": [],
   "source": [
    "# Creation of a scatter plot for the variables concentration number and expediente_INVIMA \n",
    "# You want to know if the two variables are related"
   ]
  },
  {
   "cell_type": "code",
   "execution_count": 25,
   "id": "189311cd-c3d8-44bc-9069-80a972f08bfa",
   "metadata": {},
   "outputs": [
    {
     "data": {
      "text/plain": [
       "Text(0, 0.5, 'Expediente invima')"
      ]
     },
     "execution_count": 25,
     "metadata": {},
     "output_type": "execute_result"
    },
    {
     "data": {
      "image/png": "[encoded data removed]",
      "text/plain": [
       "<Figure size 640x480 with 1 Axes>"
      ]
     },
     "metadata": {},
     "output_type": "display_data"
    }
   ],
   "source": [
    "plt.scatter(df['concentracion_numero'],df['Expediente_INVIMA'])\n",
    "plt.title('Concentración de medicamentos vs Expediente INVIMA')\n",
    "plt.xlabel('Concentración')\n",
    "plt.ylabel('Expediente invima')"
   ]
  },
  {
   "cell_type": "code",
   "execution_count": 26,
   "id": "9d474ae2-05d5-417d-ac5f-c5cdeb9636c7",
   "metadata": {
    "tags": []
   },
   "outputs": [],
   "source": [
    "# Calculate the correlation for these two variables."
   ]
  },
  {
   "cell_type": "code",
   "execution_count": 27,
   "id": "1f0badd0-47ed-4980-a29b-bda25f49f32e",
   "metadata": {
    "tags": []
   },
   "outputs": [
    {
     "name": "stdout",
     "output_type": "stream",
     "text": [
      "El coeficiente de correlación es: 0.00424863498952887\n"
     ]
    }
   ],
   "source": [
    "correlation_1 = df['concentracion_numero'].corr(df['Expediente_INVIMA'])\n",
    "print(f'El coeficiente de correlación es: {correlation_1}')"
   ]
  },
  {
   "cell_type": "code",
   "execution_count": 28,
   "id": "ff1fb4db-7a20-4cf0-bd31-1fd22837fbe3",
   "metadata": {
    "tags": []
   },
   "outputs": [],
   "source": [
    "# Creation of a scatterplot for the variables concentration number and price per tablet \n",
    "# You want to know if the two variables are related"
   ]
  },
  {
   "cell_type": "code",
   "execution_count": 29,
   "id": "a0e15215-68da-4959-869c-b9f3283faf0c",
   "metadata": {
    "tags": []
   },
   "outputs": [
    {
     "data": {
      "text/plain": [
       "Text(0, 0.5, 'Precio por tableta')"
      ]
     },
     "execution_count": 29,
     "metadata": {},
     "output_type": "execute_result"
    },
    {
     "data": {
      "image/png": "[encoded data removed]",
      "text/plain": [
       "<Figure size 640x480 with 1 Axes>"
      ]
     },
     "metadata": {},
     "output_type": "display_data"
    }
   ],
   "source": [
    "plt.scatter(df['concentracion_numero'],df['precio_por_tableta'])\n",
    "plt.title('Concentración de medicamentos vs precio por tableta')\n",
    "plt.xlabel('Concentración')\n",
    "plt.ylabel('Precio por tableta')"
   ]
  },
  {
   "cell_type": "code",
   "execution_count": 30,
   "id": "9381b15e-3bf9-4f02-8c8d-4d1591e35033",
   "metadata": {
    "tags": []
   },
   "outputs": [
    {
     "name": "stdout",
     "output_type": "stream",
     "text": [
      "El coeficiente de correlación es: -0.001766423334745286\n"
     ]
    }
   ],
   "source": [
    "correlation_2 = df['concentracion_numero'].corr(df['precio_por_tableta'])\n",
    "print(f'El coeficiente de correlación es: {correlation_2}')"
   ]
  },
  {
   "cell_type": "code",
   "execution_count": 31,
   "id": "284dbd57-cda0-4475-b59f-625d48d8268f",
   "metadata": {
    "tags": []
   },
   "outputs": [],
   "source": [
    "# Creation of a scatter plot for the variables price per tablet and Invima file\n",
    "# You want to know if the two variables are related"
   ]
  },
  {
   "cell_type": "code",
   "execution_count": 32,
   "id": "8df949ab-c503-4c9a-bd28-15e40d66c207",
   "metadata": {
    "tags": []
   },
   "outputs": [
    {
     "data": {
      "text/plain": [
       "Text(0, 0.5, 'Expediente INVIMA')"
      ]
     },
     "execution_count": 32,
     "metadata": {},
     "output_type": "execute_result"
    },
    {
     "data": {
      "image/png": "[encoded data removed]",
      "text/plain": [
       "<Figure size 640x480 with 1 Axes>"
      ]
     },
     "metadata": {},
     "output_type": "display_data"
    }
   ],
   "source": [
    "plt.scatter(df['precio_por_tableta'],df['Expediente_INVIMA'])\n",
    "plt.title('Precio por tableta vs Expediente INVIMA')\n",
    "plt.xlabel('Precio por tableta')\n",
    "plt.ylabel('Expediente INVIMA')"
   ]
  },
  {
   "cell_type": "code",
   "execution_count": 33,
   "id": "b5dc642e-beac-4abb-91e9-686f2209f5e9",
   "metadata": {
    "tags": []
   },
   "outputs": [
    {
     "name": "stdout",
     "output_type": "stream",
     "text": [
      "El coeficiente de correlación es: 0.019001471130365467\n"
     ]
    }
   ],
   "source": [
    "correlation_3 = df['precio_por_tableta'].corr(df['Expediente_INVIMA'])\n",
    "print(f'El coeficiente de correlación es: {correlation_3}')"
   ]
  },
  {
   "cell_type": "code",
   "execution_count": 34,
   "id": "fc9def21-00d2-409f-b3c7-23378e75f1cd",
   "metadata": {
    "tags": []
   },
   "outputs": [],
   "source": [
    "# Pie chart to show the proportion of dispensing units\n",
    "# Since there are many values for this variable, the first 10 most frequent ones will be taken into account"
   ]
  },
  {
   "cell_type": "code",
   "execution_count": 35,
   "id": "f072effb-9160-47bc-ba01-3d425e999e6d",
   "metadata": {
    "tags": []
   },
   "outputs": [],
   "source": [
    "top_unidades_dispensacion = df['unidad_de_dispensacion'].value_counts().head(10)"
   ]
  },
  {
   "cell_type": "code",
   "execution_count": 36,
   "id": "745189de-aa4a-4876-ab41-743ef7770ea6",
   "metadata": {
    "tags": []
   },
   "outputs": [
    {
     "data": {
      "text/plain": [
       "Tableta o cápsula                                             6001\n",
       "Solución o suspensión inyectable                              1514\n",
       "Solución o suspensión oral                                     689\n",
       "Cremas o geles o ungüentos o pomadas o pastas o jaleas         638\n",
       "Polvo para reconstituir a Solución o suspensión inyectable     625\n",
       "Solución o suspensión oftálmica                                445\n",
       "Polvo para reconstituir a Solución o suspensión oral           328\n",
       "Jarabe                                                         327\n",
       "Tableta o cápsula de liberación modificada                     316\n",
       "Solución o suspensión para inhalación                          152\n",
       "Name: unidad_de_dispensacion, dtype: int64"
      ]
     },
     "execution_count": 36,
     "metadata": {},
     "output_type": "execute_result"
    }
   ],
   "source": [
    "top_unidades_dispensacion"
   ]
  },
  {
   "cell_type": "code",
   "execution_count": 37,
   "id": "e5d1bac6-ac2e-4851-816a-cdcd9a8128d0",
   "metadata": {
    "tags": []
   },
   "outputs": [
    {
     "data": {
      "image/png": "[encoded data removed]",
      "text/plain": [
       "<Figure size 800x800 with 1 Axes>"
      ]
     },
     "metadata": {},
     "output_type": "display_data"
    }
   ],
   "source": [
    "plt.figure(figsize=(8, 8))\n",
    "top_unidades_dispensacion.plot(kind='pie', autopct='%1.1f%%')\n",
    "plt.title('Top 10 Unidades de Dispensación Más Comunes')\n",
    "plt.ylabel('')\n",
    "plt.tight_layout()\n",
    "plt.show()"
   ]
  },
  {
   "cell_type": "code",
   "execution_count": 38,
   "id": "b0715aa1-372a-4a30-bd5d-9c20626e66f3",
   "metadata": {
    "tags": []
   },
   "outputs": [],
   "source": [
    "# Box plot (boxplot) to compare prices per tablet per channel"
   ]
  },
  {
   "cell_type": "code",
   "execution_count": 39,
   "id": "f6864271-4fee-476b-8734-00066883b945",
   "metadata": {
    "tags": []
   },
   "outputs": [
    {
     "data": {
      "image/png": "[encoded data removed]",
      "text/plain": [
       "<Figure size 1000x600 with 1 Axes>"
      ]
     },
     "metadata": {},
     "output_type": "display_data"
    }
   ],
   "source": [
    "plt.figure(figsize=(10, 6))\n",
    "plt.boxplot(df.groupby('canal')['precio_por_tableta'].mean(), vert=False)\n",
    "plt.title('Comparación de Precios por Tableta por Canal')\n",
    "plt.xlabel('Precio por Tableta')\n",
    "plt.ylabel('Canal')\n",
    "plt.tight_layout()\n",
    "plt.show()"
   ]
  },
  {
   "cell_type": "code",
   "execution_count": 40,
   "id": "f414892f-6e68-4f6c-9c1b-714be4e1e54c",
   "metadata": {
    "tags": []
   },
   "outputs": [],
   "source": [
    "# Histogram of the first 10 most repeated concentrations"
   ]
  },
  {
   "cell_type": "code",
   "execution_count": 41,
   "id": "edf2d54d-5869-4f1a-a15b-d145dac5e863",
   "metadata": {
    "tags": []
   },
   "outputs": [],
   "source": [
    "top_concentraciones = df['concentracion'].value_counts().head(10)"
   ]
  },
  {
   "cell_type": "code",
   "execution_count": 42,
   "id": "d39b2e48-9ffb-44d1-b94d-ff8f68d8ce29",
   "metadata": {
    "tags": []
   },
   "outputs": [
    {
     "data": {
      "text/plain": [
       "clotrimazol 1 g          57\n",
       "nitazoxanida 500 mg      45\n",
       "cetirizina 10 mg         45\n",
       "azitromicina 500 mg      44\n",
       "acetaminofen 500 mg      43\n",
       "meloxicam 15 mg          42\n",
       "clobetasol 0,05 g        40\n",
       "sildenafil 50 mg         40\n",
       "claritromicina 500 mg    38\n",
       "desloratadina 5 mg       35\n",
       "Name: concentracion, dtype: int64"
      ]
     },
     "execution_count": 42,
     "metadata": {},
     "output_type": "execute_result"
    }
   ],
   "source": [
    "top_concentraciones"
   ]
  },
  {
   "cell_type": "code",
   "execution_count": 43,
   "id": "4ce71f94-a7c3-402f-bae2-5dd9a26fc9b1",
   "metadata": {
    "tags": []
   },
   "outputs": [
    {
     "data": {
      "image/png": "[encoded data removed]",
      "text/plain": [
       "<Figure size 800x600 with 1 Axes>"
      ]
     },
     "metadata": {},
     "output_type": "display_data"
    }
   ],
   "source": [
    "plt.figure(figsize=(8, 6))\n",
    "plt.hist(top_concentraciones.index, weights=top_concentraciones.values, bins=10, edgecolor='black')\n",
    "plt.title('Histograma de las 10 Concentraciones Más Frecuentes')\n",
    "plt.xlabel('Concentración')\n",
    "plt.ylabel('Frecuencia')\n",
    "plt.xticks(rotation=45)\n",
    "plt.tight_layout()\n",
    "plt.show()"
   ]
  },
  {
   "cell_type": "code",
   "execution_count": 44,
   "id": "620fe2e0-cf0e-4c35-856f-3d6bd6020a08",
   "metadata": {
    "tags": []
   },
   "outputs": [],
   "source": [
    "# Bar graph by channel (institutional or commercial)."
   ]
  },
  {
   "cell_type": "code",
   "execution_count": 45,
   "id": "c051c815-c830-45d7-bc96-4b0179c7199b",
   "metadata": {
    "tags": []
   },
   "outputs": [
    {
     "data": {
      "image/png": "[encoded data removed]",
      "text/plain": [
       "<Figure size 800x600 with 1 Axes>"
      ]
     },
     "metadata": {},
     "output_type": "display_data"
    }
   ],
   "source": [
    "plt.figure(figsize=(8, 6))\n",
    "df['canal'].value_counts().plot(kind='bar')\n",
    "plt.title('Distribución de Datos por Canal')\n",
    "plt.xlabel('Canal')\n",
    "plt.ylabel('Cantidad')\n",
    "plt.xticks(rotation=0)\n",
    "plt.tight_layout()\n",
    "plt.show()"
   ]
  },
  {
   "cell_type": "code",
   "execution_count": null,
   "id": "872dca04-b58a-414d-9380-2bea584b42cb",
   "metadata": {},
   "outputs": [],
   "source": [
    "# Analyze data with numpy"
   ]
  },
  {
   "cell_type": "code",
   "execution_count": 46,
   "id": "ecf563f3-f59b-4c7c-894b-9cfc4919e289",
   "metadata": {
    "tags": []
   },
   "outputs": [
    {
     "name": "stdout",
     "output_type": "stream",
     "text": [
      "Media del precio por tableta: 169090.34\n",
      "Desviación estándar del precio por tableta: 2801158.67\n"
     ]
    }
   ],
   "source": [
    "# 1. Mean and standard deviation of the price per tablet\n",
    "precio_por_tableta = df[\"precio_por_tableta\"]\n",
    "mean_precio = np.mean(precio_por_tableta)\n",
    "std_precio = np.std(precio_por_tableta)\n",
    "print(f\"Media del precio por tableta: {mean_precio:.2f}\")\n",
    "print(f\"Desviación estándar del precio por tableta: {std_precio:.2f}\")"
   ]
  },
  {
   "cell_type": "code",
   "execution_count": 47,
   "id": "34a462f2-5758-4a20-9d81-b3e100757c29",
   "metadata": {
    "tags": []
   },
   "outputs": [
    {
     "name": "stdout",
     "output_type": "stream",
     "text": [
      "Mínimo de concentración numérica: 0.0\n",
      "Máximo de concentración numérica: 30000000.0\n"
     ]
    }
   ],
   "source": [
    "# 2. Minimum and maximum of numerical concentration.\n",
    "concentraciones = df[\"concentracion_numero\"]\n",
    "min_concentracion = np.min(concentraciones)\n",
    "max_concentracion = np.max(concentraciones)\n",
    "print(f\"Mínimo de concentración numérica: {min_concentracion}\")\n",
    "print(f\"Máximo de concentración numérica: {max_concentracion}\")"
   ]
  },
  {
   "cell_type": "code",
   "execution_count": 48,
   "id": "20651999-5115-46ad-b456-295b30aa4adb",
   "metadata": {
    "tags": []
   },
   "outputs": [
    {
     "name": "stdout",
     "output_type": "stream",
     "text": [
      "Top 3 medicamentos por precio por tableta:\n",
      "1. Spinraza\n",
      "2. Remodulin\n",
      "3. Juxtapid\n"
     ]
    }
   ],
   "source": [
    "#3. Top 3 drugs by price per tablet\n",
    "n = 3\n",
    "indices_ordenados = np.argsort(precio_por_tableta)[::-1]\n",
    "top_n_meds = np.array(df[\"nombre_comercial\"])[indices_ordenados][:n]\n",
    "print(f\"Top {n} medicamentos por precio por tableta:\")\n",
    "for rank, med in enumerate(top_n_meds, start=1):\n",
    "    print(f\"{rank}. {med}\")"
   ]
  },
  {
   "cell_type": "code",
   "execution_count": 49,
   "id": "e7660758-4aea-439c-868c-26d77a5e83d1",
   "metadata": {
    "tags": []
   },
   "outputs": [
    {
     "name": "stdout",
     "output_type": "stream",
     "text": [
      "Unidad de Dispensación: Tableta o cápsula\n",
      "Promedio de Precio por Tableta: 27756.70\n",
      "\n",
      "Unidad de Dispensación: Solución o suspensión inyectable\n",
      "Promedio de Precio por Tableta: 786831.45\n",
      "\n",
      "Unidad de Dispensación: Solución o suspensión oral\n",
      "Promedio de Precio por Tableta: 40616.06\n",
      "\n",
      "Unidad de Dispensación: Cremas o geles o ungüentos o pomadas o pastas o jaleas\n",
      "Promedio de Precio por Tableta: 27230.74\n",
      "\n",
      "Unidad de Dispensación: Polvo para reconstituir a Solución o suspensión inyectable\n",
      "Promedio de Precio por Tableta: 771963.74\n",
      "\n"
     ]
    }
   ],
   "source": [
    "# 4. Average price of the 5 most frequent tablets per dispensing unit:\n",
    "# The 5 most frequent dosage units are obtained\n",
    "top_unidades_disp = df[\"unidad_de_dispensacion\"].value_counts().head(5).index\n",
    "\n",
    "for unidad_disp in top_unidades_disp:\n",
    "    precio = df[df[\"unidad_de_dispensacion\"] == unidad_disp][\"precio_por_tableta\"]\n",
    "    promedio_precio = np.mean(precio)\n",
    "    print(f\"Unidad de Dispensación: {unidad_disp}\")\n",
    "    print(f\"Promedio de Precio por Tableta: {promedio_precio:.2f}\\n\")"
   ]
  },
  {
   "cell_type": "code",
   "execution_count": 50,
   "id": "17972f30-ad94-43a7-a52e-bd9595c61a8e",
   "metadata": {
    "tags": []
   },
   "outputs": [
    {
     "name": "stdout",
     "output_type": "stream",
     "text": [
      "Principio Activo: acetaminofen\n",
      "Mediana de Precios por Tableta: 1626.91\n",
      "\n",
      "Principio Activo: ibuprofeno\n",
      "Mediana de Precios por Tableta: 1321.28\n",
      "\n",
      "Principio Activo: rosuvastatina\n",
      "Mediana de Precios por Tableta: 3340.20\n",
      "\n",
      "Principio Activo: diclofenaco\n",
      "Mediana de Precios por Tableta: 3491.01\n",
      "\n",
      "Principio Activo: clotrimazol\n",
      "Mediana de Precios por Tableta: 7736.92\n",
      "\n"
     ]
    }
   ],
   "source": [
    "# 5. Average price of the 5 most frequent active ingredients:\n",
    "# Get the 5 most common active ingredients\n",
    "top_principios_activos = df[\"principio_activo\"].value_counts().head(5).index\n",
    "for principio_activo in top_principios_activos:\n",
    "    precio = df[df[\"principio_activo\"] == principio_activo][\"precio_por_tableta\"]\n",
    "    promedio_precio = np.median(precio)\n",
    "    print(f\"Principio Activo: {principio_activo}\")\n",
    "    print(f\"Mediana de Precios por Tableta: {promedio_precio:.2f}\\n\")"
   ]
  },
  {
   "cell_type": "code",
   "execution_count": null,
   "id": "3f5a9afb-d3e5-4404-a4c1-289f102f9d89",
   "metadata": {},
   "outputs": [],
   "source": []
  },
  {
   "cell_type": "code",
   "execution_count": null,
   "id": "126a8638-41ed-4a52-833a-957bf792bb8d",
   "metadata": {},
   "outputs": [],
   "source": []
  },
  {
   "cell_type": "code",
   "execution_count": null,
   "id": "ac879568-c180-4feb-8482-79f75be9cbfe",
   "metadata": {},
   "outputs": [],
   "source": []
  }
 ],
 "metadata": {
  "kernelspec": {
   "display_name": "Python 3 (ipykernel)",
   "language": "python",
   "name": "python3"
  },
  "language_info": {
   "codemirror_mode": {
    "name": "ipython",
    "version": 3
   },
   "file_extension": ".py",
   "mimetype": "text/x-python",
   "name": "python",
   "nbconvert_exporter": "python",
   "pygments_lexer": "ipython3",
   "version": "3.11.3"
  }
 },
 "nbformat": 4,
 "nbformat_minor": 5
}
